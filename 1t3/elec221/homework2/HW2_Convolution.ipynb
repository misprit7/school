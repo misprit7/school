{
 "cells": [
  {
   "cell_type": "markdown",
   "metadata": {},
   "source": [
    "## 1. Finite impulse response (FIR) filters"
   ]
  },
  {
   "cell_type": "markdown",
   "metadata": {},
   "source": [
    "Recall that a finite-impulse response filter is a discrete-time system with the following input-output relation:\n",
    "$$\n",
    "y[n] = \\sum_{\\ell=0}^{M} h_\\ell x[n-\\ell],~~~\\forall n\\in\\mathbb{Z},\n",
    "$$\n",
    "where, $M$ is the *order* of the filter and $h_0,\\ldots,h_M$ are the filter coefficients.\n",
    "\n",
    "In particular, this is a **causal** FIR running average filter (Why?). "
   ]
  },
  {
   "cell_type": "markdown",
   "metadata": {},
   "source": [
    "Consider an FIR filter with input-ouput relation as follows:\n",
    "$$\n",
    "y[n] = \\sum_{\\ell=0}^{10} \\big(6-|\\ell-5|\\big)\\, x[n-\\ell],~~~\\forall n\\in\\mathbb{Z},\n",
    "$$"
   ]
  },
  {
   "cell_type": "markdown",
   "metadata": {},
   "source": [
    "<font color='red'>**Exercise 1.1** [1pts] </font> What are the filter coefficients? Create an 1D vector with the values of the filter coefficients. Use a for loop to do so. Do not forget to import the numpy package first!"
   ]
  },
  {
   "cell_type": "code",
   "execution_count": 1,
   "metadata": {},
   "outputs": [],
   "source": [
    "import numpy as np                # Import necessary packages\n",
    "\n",
    "M = 10\n",
    "filter_coefficients = np.zeros(M+1)           # initialize an array of zeros of **appropriate length**\n",
    "for ell in range(M+1) :\n",
    "    filter_coefficients[ell] = 6-np.abs(ell-5)     # set the value of the \\ell^{th} filter coefficients"
   ]
  },
  {
   "cell_type": "markdown",
   "metadata": {},
   "source": [
    "Print the values of the array"
   ]
  },
  {
   "cell_type": "code",
   "execution_count": 2,
   "metadata": {},
   "outputs": [
    {
     "name": "stdout",
     "output_type": "stream",
     "text": [
      "[1. 2. 3. 4. 5. 6. 5. 4. 3. 2. 1.]\n"
     ]
    }
   ],
   "source": [
    "print(filter_coefficients)"
   ]
  },
  {
   "cell_type": "markdown",
   "metadata": {},
   "source": [
    "<font color='red'>**Exercise 1.2** [1pts] </font> Generate a stem-plot of the **impulse responds of the filter.** "
   ]
  },
  {
   "cell_type": "code",
   "execution_count": 16,
   "metadata": {},
   "outputs": [
    {
     "data": {
      "image/png": "[encoded data removed]",
      "text/plain": [
       "<Figure size 432x288 with 1 Axes>"
      ]
     },
     "metadata": {
      "needs_background": "light"
     },
     "output_type": "display_data"
    }
   ],
   "source": [
    "%matplotlib inline\n",
    "import matplotlib.pyplot as plt\n",
    "\n",
    "h = filter_coefficients            # impulse response array\n",
    "h[0] = 1\n",
    "\n",
    "plt.stem( range(0, M+1) , h )\n",
    "plt.title('Triangular impulse response')\n",
    "plt.xlabel('index n')\n",
    "plt.show()"
   ]
  },
  {
   "cell_type": "markdown",
   "metadata": {},
   "source": [
    "To better understand the functionality of FIR filter, let us compute the output $y[n]$ of the system for a particular input signal $x[n]$:\n",
    "\n",
    "$$\n",
    "x[n] = \\begin{cases}\n",
    "2 &, n=0,\\\\\n",
    "4 &, n=1,\\\\\n",
    "6 &, n=2,\\\\\n",
    "0 &, n=3,\\\\\n",
    "2 &, n=4,\\\\\n",
    "0 &, \\text{otherwise}\\\\\n",
    "\\end{cases}\n",
    "$$"
   ]
  },
  {
   "cell_type": "markdown",
   "metadata": {},
   "source": [
    "<font color='red'>**Exercise 1.3**</font> Compute the output of an FIR filter when $x[n]$ above is the input. We will walk you through this. So, follow the steps as indicated below."
   ]
  },
  {
   "cell_type": "markdown",
   "metadata": {},
   "source": [
    "<font color='red'>**Exercise 1.3.1** [1 pts]</font> Initialize the following variables."
   ]
  },
  {
   "cell_type": "code",
   "execution_count": 4,
   "metadata": {},
   "outputs": [],
   "source": [
    "# length of input signal x[n]\n",
    "N = 5\n",
    "\n",
    "# length of the output signal y[n]. First answer what is the support set of the output signal?\n",
    "# The length of the output is the size of the support set plus one\n",
    "L = N+M+1"
   ]
  },
  {
   "cell_type": "markdown",
   "metadata": {},
   "source": [
    "<font color='red'>**Exercise 1.3.2** [2pts]</font> Initialize two 1-D arrays of length $N$ and $L$ each to store the values of the input and output signals, respectively. For the input signal, you already know the values that it takes. For the output signals just set all entries to zero for now. We will compute the correct entries subsequently."
   ]
  },
  {
   "cell_type": "code",
   "execution_count": 5,
   "metadata": {},
   "outputs": [],
   "source": [
    "x = np.array([2, 4, 6, 0, 2])\n",
    "y = np.zeros(L)"
   ]
  },
  {
   "cell_type": "markdown",
   "metadata": {},
   "source": [
    "Let us now make a [stem plot](https://matplotlib.org/3.1.1/api/_as_gen/matplotlib.pyplot.stem.html) of the input signal $x[n]$."
   ]
  },
  {
   "cell_type": "code",
   "execution_count": 7,
   "metadata": {},
   "outputs": [
    {
     "data": {
      "image/png": "[encoded data removed]",
      "text/plain": [
       "<Figure size 432x288 with 1 Axes>"
      ]
     },
     "metadata": {
      "needs_background": "light"
     },
     "output_type": "display_data"
    }
   ],
   "source": [
    "plt.stem( range(0, N) , x )\n",
    "plt.show()"
   ]
  },
  {
   "cell_type": "markdown",
   "metadata": {},
   "source": [
    "<font color='red'>**Exercise 1.3.3** [2pts]</font> Write Python code that computes the output signal $y[n]$. Also, make a stem plot of the output signal."
   ]
  },
  {
   "cell_type": "code",
   "execution_count": 17,
   "metadata": {},
   "outputs": [],
   "source": [
    "y = np.zeros(L)\n",
    "for n in range(L):                         # n=0,1,....,L-1\n",
    "    for ell in range(M+1):                   # ell=0,1,2,...,M-1 \n",
    "        if (n-ell>=0 and n-ell<=N-1): \n",
    "            y[n] = y[n] + x[n-ell] * h[ell];    "
   ]
  },
  {
   "cell_type": "markdown",
   "metadata": {},
   "source": [
    "The code above has two for-loops. \n",
    "\n",
    "The outer loop runs over all time indices $n$ for which we want to compute the value of $y[n]$. \n",
    "\n",
    "The inner loop runs over an the index $\\ell$ of the summation that defines the input-output relation of the FIR filter:\n",
    "$$\n",
    "y[n] = \\sum_{\\ell=0}^{10} \\big(6-|\\ell-5|\\big)\\, x[n-\\ell],~~~\\forall n\\in\\mathbb{Z},\n",
    "$$"
   ]
  },
  {
   "cell_type": "code",
   "execution_count": 22,
   "metadata": {},
   "outputs": [
    {
     "data": {
      "text/plain": [
       "array([1., 2., 3., 4., 5., 6., 5., 4., 3., 2., 1.])"
      ]
     },
     "execution_count": 22,
     "metadata": {},
     "output_type": "execute_result"
    }
   ],
   "source": [
    "h"
   ]
  },
  {
   "cell_type": "code",
   "execution_count": 18,
   "metadata": {},
   "outputs": [
    {
     "name": "stdout",
     "output_type": "stream",
     "text": [
      "[ 2.  8. 20. 32. 46. 60. 70. 72. 62. 52. 38. 24. 12.  4.  2.  0.]\n"
     ]
    },
    {
     "data": {
      "image/png": "[encoded data removed]",
      "text/plain": [
       "<Figure size 432x288 with 1 Axes>"
      ]
     },
     "metadata": {
      "needs_background": "light"
     },
     "output_type": "display_data"
    }
   ],
   "source": [
    "print(y)\n",
    "plt.stem( range(0,N) , x , label='Input')\n",
    "plt.stem( range(0,L) , y , 'm' , markerfmt='mD' , label='Output')\n",
    "plt.xlabel('index n')\n",
    "plt.legend()\n",
    "plt.show()"
   ]
  },
  {
   "cell_type": "markdown",
   "metadata": {},
   "source": [
    "### 1.1 FIR filter function"
   ]
  },
  {
   "cell_type": "markdown",
   "metadata": {},
   "source": [
    "<font color='red'>**Exercise 1.4** [1pts]</font> Write a Python function that takes as arguments an input signal x of length $N$, an impulse response of length $M+1$ and computes the output $y$ (of length L=N+M) of a causal FIR filter of order $M$ with the specified impulse response."
   ]
  },
  {
   "cell_type": "code",
   "execution_count": 29,
   "metadata": {},
   "outputs": [],
   "source": [
    "def causal_FIR_Filter(x_in,h_FIR):\n",
    "    # x_in: inptut signal \n",
    "    # h_FIR: impulse response of the FIR filter\n",
    "    \n",
    "    N = len(x_in)         # length of input signal. \n",
    "    M = len(h_FIR)-1      # order of the impulse response. Remember, by convention the order is equal to the length of the impulse response minus 1 \n",
    "    \n",
    "    L = N+M            # length of output\n",
    "    y = np.zeros(L)    # initialize output\n",
    "    \n",
    "    for n in range(0,L):                  # n=0,1,....,L-1\n",
    "        for ell in range(0,M+1):                # ell=0,1,...,M\n",
    "            if (n-ell>=0 and n-ell<=N-1): \n",
    "                y[n] = y[n] + x[n-ell] * h[ell];    \n",
    "    return y"
   ]
  },
  {
   "cell_type": "markdown",
   "metadata": {},
   "source": [
    "<font color='red'>**Exercise 1.5** [1pts]</font> Test your function by calling it on the input signal and on the triangle impulse response you saw in the previous part. Plot the output and make sure that it looks the same as what you got in Exercise 1.3.3."
   ]
  },
  {
   "cell_type": "code",
   "execution_count": 31,
   "metadata": {
    "scrolled": false
   },
   "outputs": [
    {
     "data": {
      "image/png": "[encoded data removed]",
      "text/plain": [
       "<Figure size 432x288 with 1 Axes>"
      ]
     },
     "metadata": {
      "needs_background": "light"
     },
     "output_type": "display_data"
    }
   ],
   "source": [
    "x = np.array([2,4,6,4,2]) # input signal from Exercise 1.3.2\n",
    "h = filter_coefficients   # impulse response of filter in Exercise 1.2\n",
    "\n",
    "plt.stem( range(len(h)+len(x)-1) , causal_FIR_Filter(x, h) , 'm' , markerfmt='mD')\n",
    "plt.xlabel('index n')\n",
    "plt.title('FIR filter output')\n",
    "plt.show()"
   ]
  },
  {
   "cell_type": "markdown",
   "metadata": {},
   "source": [
    "### 1.2 Convolution\n",
    "\n",
    "Recall that we called the sum $\\sum_{\\ell=0}^{M} h_\\ell x[n-\\ell]$ a **convolution sum**. \n",
    "As we mentioned in class, convolution is a fundamental operation in signal-processing (and not only signal processing!). Not surprisingly, the Numpy package has a function called [`np.convolve`](https://docs.scipy.org/doc/numpy/reference/generated/numpy.convolve.html) that performs convolution between two 1D signals."
   ]
  },
  {
   "cell_type": "markdown",
   "metadata": {},
   "source": [
    "<font color='red'>**Exercise 1.6** [1pts]</font> Call the convolution function of the numpy package on the input signal x and impulse response h of Exercise 1.1. Plot the output of the function and verify that it produces the same result as your function `causal_FIR_Filter`."
   ]
  },
  {
   "cell_type": "code",
   "execution_count": 32,
   "metadata": {},
   "outputs": [
    {
     "data": {
      "image/png": "[encoded data removed]",
      "text/plain": [
       "<Figure size 432x288 with 1 Axes>"
      ]
     },
     "metadata": {
      "needs_background": "light"
     },
     "output_type": "display_data"
    }
   ],
   "source": [
    "x = np.array([2,4,6,4,2]) # input signal from Exercise 1.3.2\n",
    "h = filter_coefficients # impulse response of filter in Exercise 1.2\n",
    "\n",
    "plt.stem( range(len(x)+len(h)-1) , np.convolve(x, h) , 'm' , markerfmt='mD')\n",
    "plt.xlabel('index n')\n",
    "plt.title('FIR filter output')\n",
    "plt.show()"
   ]
  },
  {
   "cell_type": "code",
   "execution_count": 33,
   "metadata": {},
   "outputs": [
    {
     "name": "stdout",
     "output_type": "stream",
     "text": [
      "[ 2.  8. 20. 36. 54. 72. 86. 92. 86. 72. 54. 36. 20.  8.  2.]\n",
      "[ 2.  8. 20. 36. 54. 72. 86. 92. 86. 72. 54. 36. 20.  8.  2.]\n"
     ]
    }
   ],
   "source": [
    "# Make sure these are the same!!!\n",
    "print(causal_FIR_Filter(x,h))\n",
    "print(np.convolve(x,h))\n",
    "assert np.array_equal(causal_FIR_Filter(x,h), np.convolve(x,h)), \"The arrays are not equal!\""
   ]
  }
 ],
 "metadata": {
  "interpreter": {
   "hash": "916dbcbb3f70747c44a77c7bcd40155683ae19c65e1c03b4aa3499c5328201f1"
  },
  "kernelspec": {
   "display_name": "Python 3.8.10 64-bit",
   "name": "python3"
  },
  "language_info": {
   "codemirror_mode": {
    "name": "ipython",
    "version": 3
   },
   "file_extension": ".py",
   "mimetype": "text/x-python",
   "name": "python",
   "nbconvert_exporter": "python",
   "pygments_lexer": "ipython3",
   "version": "3.8.10"
  }
 },
 "nbformat": 4,
 "nbformat_minor": 2
}
