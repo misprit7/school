{
 "cells": [
  {
   "cell_type": "markdown",
   "source": [
    "## Problem 4: Fourier Analysis\n",
    "\n",
    "The goal of this problem is to help you practice (further) on the following topics:\n",
    "\n",
    "1. Python functions\n",
    "2. if/else statements\n",
    "3. Numpy's arrays\n",
    "4. Fourier series "
   ],
   "metadata": {}
  },
  {
   "cell_type": "markdown",
   "source": [
    "We will work with the following periodic signal with period $T_s=2$ sec:\n",
    "$$\n",
    "x(t) = \\begin{cases} 1, & 0 \\le t < 1/2,\\\\\n",
    "0, & 1/2 \\le t < 3/2, \\\\\n",
    "2, & 3/2 \\le t < 2.\n",
    "\\end{cases}\n",
    "$$\n",
    "and\n",
    "$$\n",
    "x(t+2)=x(t), \\qquad \\forall t.\n",
    "$$"
   ],
   "metadata": {}
  },
  {
   "cell_type": "markdown",
   "source": [
    "### 1.1 Plot signal in time domain\n",
    "\n",
    "We will start by writing code that plots two periods of this signal. Consider the following fine discretization of the time variable $t$:"
   ],
   "metadata": {}
  },
  {
   "cell_type": "code",
   "execution_count": 22,
   "source": [
    "import numpy as np\n",
    "fs = 44100     # sampling frequency\n",
    "\n",
    "t_max = 4    # set to two periods\n",
    "N = int(t_max*fs)\n",
    "# Create an array of time\n",
    "t = np.linspace(0,t_max,N)"
   ],
   "outputs": [],
   "metadata": {}
  },
  {
   "cell_type": "markdown",
   "source": [
    "For each point in time, we can output a value of the function $x(t)$.\n",
    "\n",
    "<font color='red'>**Exercise 1.1.1**</font> <font color='magenta'> **[2pt]** </font> Using `if-statements`, create a python function that takes a time instant $t$ as its input and outputs the signal value $x(t)$ at that time."
   ],
   "metadata": {}
  },
  {
   "cell_type": "code",
   "execution_count": 23,
   "source": [
    "def stair_signal_value(time):\n",
    "\n",
    "    # insert some if statements that will return the value of the function at a specific time between 0 and 4 seconds \n",
    "    val = 0\n",
    "    if time < 1/2:\n",
    "        val = 1\n",
    "    elif time < 3/2:\n",
    "        val = 0\n",
    "    elif time < 2:\n",
    "        val = 2\n",
    "    else:\n",
    "        val = stair_signal_value(time-2)\n",
    "\n",
    "    return val"
   ],
   "outputs": [],
   "metadata": {}
  },
  {
   "cell_type": "markdown",
   "source": [
    "One way to represent the signal $x(t)$ in Python, is by storing its values in an array.\n",
    "\n",
    "<font color='red'>**Exercise 1.1.2**</font> <font color='magenta'> **[2pt]** </font> Following the steps below, construct an array whose elements are the values of the signal $x(t)$ over two time periods."
   ],
   "metadata": {}
  },
  {
   "cell_type": "markdown",
   "source": [
    "To construct our signal, first initialize it as an array of zeros of the correct length."
   ],
   "metadata": {}
  },
  {
   "cell_type": "code",
   "execution_count": 24,
   "source": [
    "length = len(t) # Get this from the array t\n",
    "xt = np.zeros(length)"
   ],
   "outputs": [],
   "metadata": {}
  },
  {
   "cell_type": "markdown",
   "source": [
    "Now loop through the time array. \n",
    "\n",
    "At each iteration, update the corresponding element of the *signal vector*. Do this by calling the function you defined previously."
   ],
   "metadata": {}
  },
  {
   "cell_type": "code",
   "execution_count": 25,
   "source": [
    "for i in range(length):\n",
    "    \n",
    "    time = t[i] # get the time at the current iteration\n",
    "    \n",
    "    val = stair_signal_value(time) # find the value of the function at that time\n",
    "    \n",
    "    # Now assign it to the corresponding element of the signal vector\n",
    "    xt[i] = val\n"
   ],
   "outputs": [],
   "metadata": {}
  },
  {
   "cell_type": "markdown",
   "source": [
    "By now we should have our signal vector xt. Plot it to make sure it's as we expect.\n",
    "\n",
    "If not, go back and fix your code above."
   ],
   "metadata": {}
  },
  {
   "cell_type": "code",
   "execution_count": 26,
   "source": [
    "%matplotlib inline  \n",
    "import matplotlib.pyplot as plt\n",
    "\n",
    "fig, ax = plt.subplots()\n",
    "ax.plot(t,xt)"
   ],
   "outputs": [
    {
     "output_type": "execute_result",
     "data": {
      "text/plain": [
       "[<matplotlib.lines.Line2D at 0x7f0afb44fd00>]"
      ]
     },
     "metadata": {},
     "execution_count": 26
    },
    {
     "output_type": "display_data",
     "data": {
      "image/png": "[encoded data removed]",
      "text/plain": [
       "<Figure size 432x288 with 1 Axes>"
      ]
     },
     "metadata": {
      "needs_background": "light"
     }
    }
   ],
   "metadata": {}
  },
  {
   "cell_type": "markdown",
   "source": [
    "### 1.2 Fourier synthesis\n",
    "\n",
    "Next, we wish to construct the same signal from its Fourier Series coefficients (also known as Fourier synthesis). \n",
    "\n",
    "Recall that if we want to build this signal from its Fourier Series coefficients, we do it as follows: $$\\hat{x}(t)={A_0}/{2}+\\sum_{k=1}^{\\infty}A_k\\cos(\\pi k t ) + B_k\\sin(\\pi k t )$$\n",
    "\n",
    "We will build the signal sequentially. "
   ],
   "metadata": {}
  },
  {
   "cell_type": "markdown",
   "source": [
    "<font color='red'>**Exercise 1.2.0**</font> <font color='magenta'> **[5pt]** </font> Compute the Fourier coefficients $A_0,A_1,A_2,\\ldots$ and $B_1,B_2,\\ldots$. **Show your work on paper in the Problem set AND input your answer below.**"
   ],
   "metadata": {}
  },
  {
   "cell_type": "markdown",
   "source": [
    "The Fourier coefficients are as follows (see the written section for derivations):\n",
    "\n",
    "$$\n",
    "\\begin{align*}\n",
    "    & A_0 = \\frac32 \\\\\n",
    "    & A_k = \\frac{3}{\\pi k}\\sin(\\frac\\pi2k) , \\text{for}~~  k=1,2,3,\\ldots\\\\\n",
    "    & B_k = \\frac1{\\pi k}(\\cos(\\frac\\pi2 k)-1) , \\text{for}~~ k=1,2,3,\\ldots\\\\\n",
    "\\end{align*}\n",
    "$$\n"
   ],
   "metadata": {}
  },
  {
   "cell_type": "markdown",
   "source": [
    "<font color='red'>**Exercise 1.2.1**</font> <font color='magenta'> **[1pt]** </font> First, create and plot a signal of the correct length where each element has value $A_0/2$ (i.e., the DC-term): $$x_0(t) = A_0/2$$"
   ],
   "metadata": {}
  },
  {
   "cell_type": "code",
   "execution_count": 27,
   "source": [
    "A_0 = 1.5\n",
    "x0 = np.ones(length)* A_0/2\n",
    "\n",
    "fig, ax = plt.subplots()\n",
    "ax.plot(t,x0)"
   ],
   "outputs": [
    {
     "output_type": "execute_result",
     "data": {
      "text/plain": [
       "[<matplotlib.lines.Line2D at 0x7f0afb3b53d0>]"
      ]
     },
     "metadata": {},
     "execution_count": 27
    },
    {
     "output_type": "display_data",
     "data": {
      "image/png": "[encoded data removed]",
      "text/plain": [
       "<Figure size 432x288 with 1 Axes>"
      ]
     },
     "metadata": {
      "needs_background": "light"
     }
    }
   ],
   "metadata": {}
  },
  {
   "cell_type": "markdown",
   "source": [
    "<font color='red'>**Exercise 1.2.2**</font> <font color='magenta'> **[2pt]** </font> Define functions that take as input an integer $k$ and return the corresponding Fourier series coefficients $A_k$ and $B_k$ associated with that 'harmonic'"
   ],
   "metadata": {}
  },
  {
   "cell_type": "code",
   "execution_count": 28,
   "source": [
    "def Ak(k):\n",
    "    \n",
    "    # Handle the special case that k = 0\n",
    "    if k == 0:\n",
    "        return A_0\n",
    "    # Otherwise, handle the case that k > 0\n",
    "    val = 3 / np.pi / k * np.sin(np.pi / 2 * k)\n",
    "    return val\n",
    "\n",
    "def Bk(k):\n",
    "    # Handle the special case that k = 0\n",
    "    if k == 0:\n",
    "        return 0\n",
    "    # Otherwise, handle the case that k > 0\n",
    "    val = 1 / np.pi / k * (np.cos(np.pi / 2 * k) - 1)\n",
    "    return val"
   ],
   "outputs": [],
   "metadata": {}
  },
  {
   "cell_type": "markdown",
   "source": [
    "<font color='red'>**Exercise 1.2.3**</font><font color='magenta'> **[1pt]** </font> Create and plot a signal that has the first two terms: \n",
    "$$\n",
    "\\begin{align*}\n",
    "    x_1(t) &= A_0/2 + A_1\\cos( \\pi t) + B_1 \\sin( \\pi t) \\\\\n",
    "    &= x_0(t) + A_1\\cos( \\pi t) + B_1 \\sin( \\pi t)\n",
    "\\end{align*}\n",
    "$$\n",
    "\n",
    "Note that we don't have to start from scratch, we can just a new part to the signal we already made, called `x0`."
   ],
   "metadata": {}
  },
  {
   "cell_type": "code",
   "execution_count": 29,
   "source": [
    "# Hint: for A1 and B1 we can use the functions we defined above to give us the coefficients\n",
    "A1 = Ak(1)\n",
    "B1 = Bk(1)\n",
    "x1 = x0 + A1 * np.cos(np.pi * t) + B1 * np.sin(np.pi * t)\n",
    "\n",
    "fig, ax = plt.subplots()\n",
    "ax.plot(t,x1)"
   ],
   "outputs": [
    {
     "output_type": "execute_result",
     "data": {
      "text/plain": [
       "[<matplotlib.lines.Line2D at 0x7f0afb40cbe0>]"
      ]
     },
     "metadata": {},
     "execution_count": 29
    },
    {
     "output_type": "display_data",
     "data": {
      "image/png": "[encoded data removed]",
      "text/plain": [
       "<Figure size 432x288 with 1 Axes>"
      ]
     },
     "metadata": {
      "needs_background": "light"
     }
    }
   ],
   "metadata": {}
  },
  {
   "cell_type": "markdown",
   "source": [
    "<font color='red'>**Exercise 1.2.4**</font><font color='magenta'> **[1pt]** </font> Now do this with the first three terms:\n",
    "$$\n",
    "\\begin{align*}\n",
    "    x_2(t) &= A_0/2 + A_1\\cos(\\pi t) + B_1 \\sin( \\pi t) + A_2\\cos(2 \\pi t) + B_2 \\sin(2 \\pi t) \\\\\n",
    "    &= x_1(t) + A_2\\cos(2 \\pi t) + B_2 \\sin(2 \\pi t)\n",
    "\\end{align*}\n",
    "$$\n",
    "\n",
    "Again, we can just add to the signal `x1` we made in the previous cell."
   ],
   "metadata": {}
  },
  {
   "cell_type": "code",
   "execution_count": 30,
   "source": [
    "# Hint: for A2 and B2 we can use the functions we defined above to give us the coefficients\n",
    "A2 = Ak(2)\n",
    "B2 = Bk(2)\n",
    "x2 = x1 + A2 * np.cos(np.pi * 2* t) + B2 * np.sin(np.pi * 2 * t)\n",
    "\n",
    "\n",
    "fig, ax = plt.subplots()\n",
    "ax.plot(t,x2)\n",
    "ax.set_xlim(0,4)"
   ],
   "outputs": [
    {
     "output_type": "execute_result",
     "data": {
      "text/plain": [
       "(0.0, 4.0)"
      ]
     },
     "metadata": {},
     "execution_count": 30
    },
    {
     "output_type": "display_data",
     "data": {
      "image/png": "[encoded data removed]",
      "text/plain": [
       "<Figure size 432x288 with 1 Axes>"
      ]
     },
     "metadata": {
      "needs_background": "light"
     }
    }
   ],
   "metadata": {}
  },
  {
   "cell_type": "markdown",
   "source": [
    "You can see that as we add more terms, the reconstructed signal starts to look more like the original signal. However, it's tedious to do each step by hand. Instead, we can automate this in a for loop!\n",
    "\n",
    "<font color='red'>**Exercise 1.2.5**</font><font color='magenta'> **[3pt]** </font> Create a function that takes as input the number of coefficients to use and outputs a signal reconstructed using that number of Fourier Series coefficients. Use the convention that specifying an input of '0' means that we only give back a signal constructed from the DC term, A_0."
   ],
   "metadata": {}
  },
  {
   "cell_type": "code",
   "execution_count": 31,
   "source": [
    "def reconstructed_signal(num_coeffs):\n",
    "    \n",
    "    # In all cases add the DC term.\n",
    "    A_0 = Ak(0)\n",
    "    x0 = np.ones(length) * A_0/2\n",
    "    \n",
    "    x_reconstructed = x0 # this will be the array that is returned out of the function\n",
    "    \n",
    "    # Now make a for loop that will run once for each coefficient we wish to add\n",
    "    for k in range(1, num_coeffs) :\n",
    "        A_k = Ak(k)\n",
    "        B_k = Bk(k)\n",
    "        # As before, we can keep adding on to the signal we reconstructed from the prior coefficients\n",
    "        x_reconstructed = x_reconstructed + A_k * np.cos(np.pi * k * t) + B_k * np.sin(np.pi * k * t)\n",
    "        \n",
    "    return x_reconstructed\n",
    "    "
   ],
   "outputs": [],
   "metadata": {}
  },
  {
   "cell_type": "markdown",
   "source": [
    "Now we can easily reconstruct our signal using different numbers of coefficients! \n",
    "\n",
    "<font color='red'>**Exercise 1.2.6**</font><font color='magenta'> **[3pt]** </font> Try reconstructions using the first 3 coefficients, the first 10 coefficients, and the first 100 coefficients. How does the reconstruction change as we add more coefficients?"
   ],
   "metadata": {}
  },
  {
   "cell_type": "code",
   "execution_count": 32,
   "source": [
    "x3 = reconstructed_signal(3)\n",
    "x10 = reconstructed_signal(10)\n",
    "x100 = reconstructed_signal(100)\n",
    "\n",
    "\n",
    "\n",
    "# Now plot these three signals on top of the original signal\n",
    "fig, ax = plt.subplots()\n",
    "ax.plot(t,x3)\n",
    "ax.plot(t, x10)\n",
    "ax.plot(t, x100)\n",
    "ax.plot(t,xt)\n"
   ],
   "outputs": [
    {
     "output_type": "execute_result",
     "data": {
      "text/plain": [
       "[<matplotlib.lines.Line2D at 0x7f0afb38db50>]"
      ]
     },
     "metadata": {},
     "execution_count": 32
    },
    {
     "output_type": "display_data",
     "data": {
      "image/png": "[encoded data removed]",
      "text/plain": [
       "<Figure size 432x288 with 1 Axes>"
      ]
     },
     "metadata": {
      "needs_background": "light"
     }
    }
   ],
   "metadata": {}
  },
  {
   "cell_type": "markdown",
   "source": [
    "### 1.3 FFT (BONUS)\n",
    "**This part is NOT graded. You can try it if you are curious** \n",
    "\n",
    "The Fast Fourier Transform (FFT) is an algorithm that computes the frequency spectrum of a discrete signal in a computationally efficient way.\n",
    "\n",
    "In this part, we will see how the Fourier decomposition that we saw above relates to the FFT output."
   ],
   "metadata": {}
  },
  {
   "cell_type": "markdown",
   "source": [
    "<font color='red'>**Exercise 1.3.1**</font> For the same signal $x(t)$ above, define a Python function that computes the Fourier coefficients $C_k$ corresponding to the expansion:\n",
    "\n",
    "$$\n",
    "x(t) = C_0 + \\sum_{k=1}^{+\\infty} C_k \\cos(\\pi t + \\phi_k)\n",
    "$$\n",
    "\n",
    "*(Hint: How are the $C_k$'s related to the $A_k$'s and $B_k$'s that you computed earlier?)*"
   ],
   "metadata": {}
  },
  {
   "cell_type": "code",
   "execution_count": null,
   "source": [
    "def Ck(k):\n",
    "        \n",
    "    # Handle the special case that k = 0\n",
    "    if k == 0:\n",
    "        return ...\n",
    "    # Otherwise, handle the case that k > 0\n",
    "    val = ...\n",
    "    return val"
   ],
   "outputs": [],
   "metadata": {}
  },
  {
   "cell_type": "markdown",
   "source": [
    "<font color='red'>**Exercise 1.3.2**</font> For the same signal $x(t)$ above, define a Python function that computes the magnitudes $|X_k|$ of the *complex* Fourier coefficients $X_k$ corresponding to the expansion:\n",
    "\n",
    "$$\n",
    "x(t) = X_0 + \\sum_{k=1}^{+\\infty}( X_k e^{j\\pi k t} + X_{-k} e^{-j\\pi k t} )\n",
    "$$\n",
    "\n",
    "*(Hint: How are the $X_k$'s related to the $C_k$'s that you just computed? Remember that the energy is now split into positive and negative frequencies)*"
   ],
   "metadata": {}
  },
  {
   "cell_type": "code",
   "execution_count": null,
   "source": [
    "def Xk_magnitude(k):\n",
    "    \n",
    "    # Handle the special case that k = 0\n",
    "    if k == 0:\n",
    "        return ...\n",
    "    # Otherwise, handle the case that k > 0 or k<0\n",
    "    val = ...\n",
    "    return val"
   ],
   "outputs": [],
   "metadata": {}
  },
  {
   "cell_type": "markdown",
   "source": [
    "<font color='red'>**Exercise 1.3.3**</font> Print the magnitudes of the coefficients $X_1,X_2,\\ldots,X_{10}$."
   ],
   "metadata": {}
  },
  {
   "cell_type": "code",
   "execution_count": null,
   "source": [
    "for i in ...\n",
    "    print(...)"
   ],
   "outputs": [],
   "metadata": {}
  },
  {
   "cell_type": "markdown",
   "source": [
    "Run the following cell to call the FFT function and to compute the corresponding frequencies"
   ],
   "metadata": {}
  },
  {
   "cell_type": "code",
   "execution_count": null,
   "source": [
    "S_f = np.fft.fft(xt)             # list of FFT coefficients\n",
    "freqs = fs/N*np.linspace(0,N-1,N) # list of frequencies corresponding to the coefficients returned by fft"
   ],
   "outputs": [],
   "metadata": {}
  },
  {
   "cell_type": "markdown",
   "source": [
    "<font color='red'>**Exercise 1.3.4**</font> Plot the output of the FFT function in the frequency domain."
   ],
   "metadata": {}
  },
  {
   "cell_type": "code",
   "execution_count": null,
   "source": [
    "# Plot magnitude of FFT coefficients \n",
    "fig, ax = plt.subplots()\n",
    "ax.plot(...,...)\n",
    "ax.set_xlabel(\"f (Hz)\")\n",
    "# ax.set_xlim(0,10)           # you might need to adjust the value here to better see the dominant frequencies"
   ],
   "outputs": [],
   "metadata": {}
  },
  {
   "cell_type": "markdown",
   "source": [
    "Let us calculate the *normalized* magnitudes of the FFT output."
   ],
   "metadata": {}
  },
  {
   "cell_type": "code",
   "execution_count": null,
   "source": [
    "S_f_mag_normalized = S_f/N"
   ],
   "outputs": [],
   "metadata": {}
  },
  {
   "cell_type": "markdown",
   "source": [
    "<font color='red'>**Exercise 1.3.5**</font> Print the first 20 entries of the vector above."
   ],
   "metadata": {}
  },
  {
   "cell_type": "code",
   "execution_count": null,
   "source": [
    "for ...\n",
    "    print()"
   ],
   "outputs": [],
   "metadata": {}
  },
  {
   "cell_type": "markdown",
   "source": [
    "<font color='red'>**Exercise 1.3.6**</font> Can you identify the values of $|X_1|,|X_2|,\\ldots,|X_{10}|$ in that list? \n",
    "Does this make sense?"
   ],
   "metadata": {}
  },
  {
   "cell_type": "code",
   "execution_count": null,
   "source": [],
   "outputs": [],
   "metadata": {}
  }
 ],
 "metadata": {
  "kernelspec": {
   "name": "python3",
   "display_name": "Python 3.8.10 64-bit"
  },
  "language_info": {
   "codemirror_mode": {
    "name": "ipython",
    "version": 3
   },
   "file_extension": ".py",
   "mimetype": "text/x-python",
   "name": "python",
   "nbconvert_exporter": "python",
   "pygments_lexer": "ipython3",
   "version": "3.8.10"
  },
  "interpreter": {
   "hash": "916dbcbb3f70747c44a77c7bcd40155683ae19c65e1c03b4aa3499c5328201f1"
  }
 },
 "nbformat": 4,
 "nbformat_minor": 2
}